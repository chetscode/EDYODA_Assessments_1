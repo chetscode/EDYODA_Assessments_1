{
 "cells": [
  {
   "cell_type": "markdown",
   "metadata": {},
   "source": [
    "#### 1. Write a program to count the number of strings where the string length is 2 or more and the first and last character are same from a given list of strings.\n",
    " \n",
    "Input: [\"abcda\",\"def\",\"12341\",\"cdc\",\"123\"]\n",
    "\n",
    "Output: 3"
   ]
  },
  {
   "cell_type": "code",
   "execution_count": 1,
   "metadata": {},
   "outputs": [
    {
     "name": "stdout",
     "output_type": "stream",
     "text": [
      "3\n"
     ]
    }
   ],
   "source": [
    "# don't change any function name write you all code inside the function only for every question solution and return you output as mentioned in problem statement.\n",
    "def question_first_solution(l):\n",
    "#     print(l)\n",
    "    word_counter = 0\n",
    "    \n",
    "    for string in l:\n",
    "        if len(string) > 1 and string[0] == string[-1]:\n",
    "            word_counter = word_counter + 1\n",
    "    return word_counter\n",
    "  \n",
    "    \n",
    "    pass\n",
    "# l = [\"abcda\",\"def\",\"12341\",\"cdc\",\"123\"]\n",
    "# print(question_first_solution(l))"
   ]
  },
  {
   "cell_type": "markdown",
   "metadata": {},
   "source": [
    "#### 2. Write a program to add an item at specific index value in a tuple.\n",
    " \n",
    "Input: (2,5,8,14,17), 3, 11\n",
    "\n",
    "Output:  (2,5,8,11,14,17)"
   ]
  },
  {
   "cell_type": "code",
   "execution_count": 15,
   "metadata": {},
   "outputs": [
    {
     "name": "stdout",
     "output_type": "stream",
     "text": [
      "(10, 5, 0, -5, -10)\n"
     ]
    }
   ],
   "source": [
    "def question_second_solution(t, i, v):\n",
    "    new_tuple = t[:(i)] + (v,) + t[(i):]\n",
    "    return (new_tuple)\n",
    "    pass\n",
    "# t, i, v = (2,5,8,14,17), 3, 11\n",
    "# t, i, v = (5,10,20,25), 2, 15\n",
    "# t, i, v = (10, 5, -5, -10), 2, 0\n",
    "# print(question_second_solution(t, i, v))"
   ]
  },
  {
   "cell_type": "markdown",
   "metadata": {},
   "source": [
    "#### 3. Write a program to get a list, sorted in increasing order by the last element in each tuple from a given list of non-empty tuples.\n",
    " \n",
    "Input: [(2, 5), (1, 2), (4, 4), (2, 3), (2, 1)]\n",
    "\n",
    "Output: [(2, 1), (1, 2), (2, 3), (4, 4), (2, 5)])]"
   ]
  },
  {
   "cell_type": "code",
   "execution_count": 4,
   "metadata": {},
   "outputs": [
    {
     "name": "stdout",
     "output_type": "stream",
     "text": [
      "[(2, 1), (1, 2), (2, 3), (4, 4), (2, 5)]\n"
     ]
    }
   ],
   "source": [
    "def question_third_solution(list):\n",
    "    tuple_1 = list[:]\n",
    "    sorted_tuple = sorted(tuple_1, key=lambda x: x[1], reverse=False)\n",
    "    return sorted_tuple\n",
    "    pass\n",
    "# mainlist = [(2, 5), (1, 2), (4, 4), (2, 3), (2, 1)]\n",
    "# print(question_third_solution(mainlist))"
   ]
  },
  {
   "cell_type": "markdown",
   "metadata": {},
   "source": [
    "#### 4. Write a program to remove duplicates from a list.\n",
    " \n",
    "Input: [10,20,30,20,10,50,60,40,80,50,40]\n",
    "\n",
    "Output: [10, 20, 30, 50, 60, 40, 80]"
   ]
  },
  {
   "cell_type": "code",
   "execution_count": 6,
   "metadata": {},
   "outputs": [
    {
     "name": "stdout",
     "output_type": "stream",
     "text": [
      "[10, 20, 30, 50, 60, 40, 80]\n"
     ]
    }
   ],
   "source": [
    "def question_fourth_solution(a):\n",
    "    newlist = []\n",
    "    for no in a:\n",
    "        if no not in newlist:\n",
    "            newlist.append(no)\n",
    "    return newlist\n",
    "    pass\n",
    "# a = [10,20,30,20,10,50,60,40,80,50,40]\n",
    "# print(question_fourth_solution(a))"
   ]
  },
  {
   "cell_type": "markdown",
   "metadata": {},
   "source": [
    "#### 5. Write a program to check whether a list contains a sublist.\n",
    " \n",
    "Input: [2,4,3,5,7],[4,3]\n",
    "\n",
    "Output: True"
   ]
  },
  {
   "cell_type": "code",
   "execution_count": 21,
   "metadata": {},
   "outputs": [
    {
     "name": "stdout",
     "output_type": "stream",
     "text": [
      "True\n"
     ]
    }
   ],
   "source": [
    "def question_fifth_solution(l, s):\n",
    "    sub_set = False\n",
    "    if s == []:\n",
    "        sub_set = True\n",
    "    elif s == l:\n",
    "        sub_set = True\n",
    "    elif len(s) > len(l):\n",
    "        sub_set = False\n",
    "\n",
    "    else:\n",
    "        for num in range(len(l)):\n",
    "            if l[num] == s[0]:\n",
    "                n = 1\n",
    "                while (n < len(s)) and (l[num + n] == s[n]):\n",
    "                    n += 1\n",
    "\n",
    "                if n == len(s):\n",
    "                    sub_set = True\n",
    "\n",
    "    return sub_set\n",
    "    pass\n",
    "l = [2,4,3,5,7]\n",
    "s = [4,3]\n",
    "# l = [2,4,3,5,7]\n",
    "# s = [3,7]\n",
    "print(question_fifth_solution(l, s))"
   ]
  },
  {
   "cell_type": "markdown",
   "metadata": {},
   "source": [
    "### 6. Write a program to find common elements in two lists of the same length.\n",
    " \n",
    "Input: [1,2,5,6,3],[2,6,8,9,2]\n",
    "\n",
    "Output: [2, 6]"
   ]
  },
  {
   "cell_type": "code",
   "execution_count": 8,
   "metadata": {},
   "outputs": [
    {
     "name": "stdout",
     "output_type": "stream",
     "text": [
      "[2, 6]\n"
     ]
    }
   ],
   "source": [
    "def question_sixth_solution(a, b):\n",
    "    c = []\n",
    "    for value in a:\n",
    "        if value in b:\n",
    "            c.append(value)\n",
    "\n",
    "    return c\n",
    "    pass\n",
    "# a = [1,2,5,6,3]\n",
    "# b = [2,6,8,9,2]\n",
    "# print(question_sixth_solution(a, b))\n"
   ]
  },
  {
   "cell_type": "markdown",
   "metadata": {},
   "source": [
    "#### 7. Write a program to print sum of 2nd largest and 2nd smallest element in a list.\n",
    " \n",
    "Input: [1,2,3,4,5,6]\n",
    "\n",
    "Output: 7"
   ]
  },
  {
   "cell_type": "code",
   "execution_count": 10,
   "metadata": {},
   "outputs": [
    {
     "name": "stdout",
     "output_type": "stream",
     "text": [
      "7\n"
     ]
    }
   ],
   "source": [
    "def question_seventh_solution(l):\n",
    "    max_no = max(l) - 1\n",
    "    min_no = min(l) + 1\n",
    "    total = max_no + min_no\n",
    "    return total\n",
    "    pass\n",
    "# l = [1,2,3,4,5,6]\n",
    "# print(question_seventh_solution(l))"
   ]
  },
  {
   "cell_type": "markdown",
   "metadata": {},
   "source": [
    "#### 8. Write a program to print a list of list elements whose sum is 10 in a given list.\n",
    " \n",
    "Input: [1,5,3,6,8,9,2,7]\n",
    "    \n",
    "Output: [[1, 9], [3, 7], [8, 2]]"
   ]
  },
  {
   "cell_type": "code",
   "execution_count": 9,
   "metadata": {},
   "outputs": [],
   "source": [
    "def question_eighth_solution(l):\n",
    "    # Write your code here\n",
    "    pass\n"
   ]
  },
  {
   "cell_type": "markdown",
   "metadata": {},
   "source": [
    "#### 9. Write a program to print a list whose 1st element should largest and 2nd should be smallest then 3rd should be 2nd largest and 4th should be 2nd smallest and so on.\n",
    " \n",
    "Input: [5,6,7,2,3,4]\n",
    "\n",
    "Output: [7, 2, 6, 3, 5, 4]"
   ]
  },
  {
   "cell_type": "code",
   "execution_count": 10,
   "metadata": {},
   "outputs": [],
   "source": [
    "def question_ninth_solution(l):\n",
    "    # Write your code here\n",
    "    pass"
   ]
  },
  {
   "cell_type": "markdown",
   "metadata": {},
   "source": [
    "#### 10. Write a Python program to insert a given string at the beginning of all items in a list.\n",
    " \n",
    "Input:  [1,2,3,4], 'emp'\n",
    "\n",
    "Output: ['emp1', 'emp2', 'emp3', 'emp4']"
   ]
  },
  {
   "cell_type": "code",
   "execution_count": 11,
   "metadata": {},
   "outputs": [
    {
     "name": "stdout",
     "output_type": "stream",
     "text": [
      "['emp1', 'emp2', 'emp3', 'emp4']\n"
     ]
    }
   ],
   "source": [
    "def question_tenth_solution(l, s):\n",
    "    newlist = [s + str(value) for value in l]\n",
    "    return newlist\n",
    "\n",
    "    pass\n",
    "\n",
    "# l =  [1,2,3,4]\n",
    "# s = \"emp\"\n",
    "# print(question_tenth_solution(l,s))"
   ]
  }
 ],
 "metadata": {
  "kernelspec": {
   "display_name": "Python 3",
   "language": "python",
   "name": "python3"
  },
  "language_info": {
   "codemirror_mode": {
    "name": "ipython",
    "version": 3
   },
   "file_extension": ".py",
   "mimetype": "text/x-python",
   "name": "python",
   "nbconvert_exporter": "python",
   "pygments_lexer": "ipython3",
   "version": "3.7.3"
  }
 },
 "nbformat": 4,
 "nbformat_minor": 4
}
