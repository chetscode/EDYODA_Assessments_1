{
 "cells": [
  {
   "cell_type": "code",
   "execution_count": 2,
   "metadata": {},
   "outputs": [],
   "source": [
    "# don't change any function name write you all code inside the function only for every question solution and return you output as mentioned in problem statement.\n",
    "\n",
    "\n",
    "def question_first_solution(length, breadth):\n",
    "    if length == breadth:\n",
    "        return length * breadth, True\n",
    "    else:\n",
    "        return length * breadth, False\n",
    "    pass"
   ]
  },
  {
   "cell_type": "code",
   "execution_count": 3,
   "metadata": {},
   "outputs": [],
   "source": [
    "def question_second_solution(nums):\n",
    "    nums = \"5\"\n",
    "    if (nums.isdigit()):\n",
    "        n = int(nums)\n",
    "        nn = str(n) + str(n)\n",
    "        nnn = str(n) + str(n) + str(n)\n",
    "        return n + int(nn) + int(nnn)\n",
    "    else:\n",
    "        return \"No is not an integer no\"\n",
    "    pass"
   ]
  },
  {
   "cell_type": "code",
   "execution_count": 4,
   "metadata": {},
   "outputs": [],
   "source": [
    "def question_third_solution(sal, noy):\n",
    "    if noy <=5:\n",
    "        pf = sal * 12 / 100\n",
    "    elif noy >=5:\n",
    "        pf = sal * 24 / 100\n",
    "    return sal - pf\n",
    "    pass"
   ]
  },
  {
   "cell_type": "code",
   "execution_count": 5,
   "metadata": {},
   "outputs": [],
   "source": [
    "def question_fourth_solution(a,b,c,d,e):\n",
    "    total_marks = a + b + c + d + e\n",
    "    per_of_marks = total_marks / 500 * 100\n",
    "\n",
    "    if per_of_marks > 90 and per_of_marks <= 100:  # for failsafe i have used this is if grade is higher than 100 then it will show error\n",
    "        grade = \"A+\"\n",
    "    elif per_of_marks >= 80 and per_of_marks <= 90:\n",
    "        grade = \"A\"\n",
    "    elif per_of_marks >= 70 and per_of_marks <= 80:\n",
    "        grade = \"B+\"\n",
    "    elif per_of_marks >= 60 and per_of_marks <= 70:\n",
    "        grade = \"B\"\n",
    "    elif per_of_marks >= 50 and per_of_marks <= 60:\n",
    "        grade = \"C+\"\n",
    "    elif per_of_marks >= 40 and per_of_marks <= 50:\n",
    "        grade = \"C\"\n",
    "    elif per_of_marks < 40:\n",
    "        grade = \"F\"\n",
    "    else:\n",
    "        grade = \"error in grade\"\n",
    "    return grade, per_of_marks\n",
    "    pass"
   ]
  },
  {
   "cell_type": "code",
   "execution_count": 6,
   "metadata": {},
   "outputs": [],
   "source": [
    "def question_fifth_solution(noc,n):\n",
    "    per_of_attendance = n / noc * 100\n",
    "    attendance = format(per_of_attendance, '.2f') #just for formating the output in 2 decimal\n",
    "    if per_of_attendance < 75:\n",
    "        allow = False\n",
    "    else:\n",
    "        allow = True\n",
    "    return attendance, allow\n",
    "    pass"
   ]
  },
  {
   "cell_type": "code",
   "execution_count": 7,
   "metadata": {},
   "outputs": [],
   "source": [
    "def question_sixth_solution(year):\n",
    "    if (year % 4) == 0 or (year % 4) == 0:\n",
    "        leap = True\n",
    "    else:\n",
    "        leap = False\n",
    "    return leap\n",
    "    pass"
   ]
  },
  {
   "cell_type": "code",
   "execution_count": 8,
   "metadata": {},
   "outputs": [],
   "source": [
    "def question_seventh_solution(age, gen , mar_status):\n",
    "    if gen == \"F\" and age ==() and mar_status == ():\n",
    "        place_of_service = \"You will work only in urban areas\"\n",
    "    elif gen == \"M\" and (age >=20 and age <=30) and mar_status == \"N\":\n",
    "        place_of_service = \"You may work anywhere\"\n",
    "    elif gen == \"F\" and (age >= 20 and age <= 30) and mar_status == \"N\":\n",
    "        place_of_service = \"You may work in urban areas\"\n",
    "    elif gen == \"M\" and (age >=20 and age <=30) and mar_status == \"Y\":\n",
    "        place_of_service = \"You will work in nearby Hometown\"\n",
    "    elif gen == \"F\" and (age >=20 and age <=30) and mar_status == \"Y\":\n",
    "        place_of_service = \"You will work in your husband's city.\"\n",
    "    elif age <=20 or age >=30:\n",
    "        place_of_service = \"ERROR\"\n",
    "    else:\n",
    "        place_of_service  = \"Invalid Input\"\n",
    "    return place_of_service\n",
    "    pass"
   ]
  },
  {
   "cell_type": "code",
   "execution_count": 9,
   "metadata": {},
   "outputs": [],
   "source": [
    "def question_eighth_solution(x,y,z):\n",
    "    if x == y == z:\n",
    "        type_of_triangle = \"Equilateral Triangle\"\n",
    "    elif x==y or y == z or x == z:\n",
    "        type_of_triangle = \"Isosceles\"\n",
    "    else:\n",
    "        type_of_triangle = \"Scalene \"\n",
    "    return type_of_triangle\n",
    "    pass"
   ]
  },
  {
   "cell_type": "code",
   "execution_count": 10,
   "metadata": {},
   "outputs": [],
   "source": [
    "def question_ninth_solution(n):\n",
    "    # n = 15\n",
    "    cost_per_unit = 100\n",
    "    max_discount = 150\n",
    "    cost_of_purchased = n * cost_per_unit # 15 * 100  = 1500\n",
    "    # print(\"Purchased cost \" + str(cost_of_purchased))\n",
    "\n",
    "    if cost_of_purchased > 1000:\n",
    "        apply_discount = 10 * cost_of_purchased / 100\n",
    "        # print(\"apply_discount \" + str(apply_discount))\n",
    "        if apply_discount >= 150:\n",
    "            apply_discount == 150\n",
    "            # print(apply_discount)\n",
    "            total_bill = cost_of_purchased - apply_discount\n",
    "            # print(total_bill)\n",
    "            return total_bill\n",
    "        else:\n",
    "            print(\"Purchased more to get 10% or Max Rs. 150 as a discount\")\n",
    "    else:\n",
    "        print(\"Purchased more to get 10% or Max Rs. 150 as a discount\")\n",
    "    pass"
   ]
  },
  {
   "cell_type": "code",
   "execution_count": 11,
   "metadata": {},
   "outputs": [],
   "source": [
    "# we can import datetime module to directly get the diffrence between dates\n",
    "# from datetime import date, try it but not get the output properly\n",
    "def question_tenth_solution(a,b):\n",
    "    \n",
    "    pass\n",
    "\n",
    "#===================================\n",
    "#Try this on pycharm and get the result of days bt not the month"
   ]
  }
 ],
 "metadata": {
  "kernelspec": {
   "display_name": "Python 3",
   "language": "python",
   "name": "python3"
  },
  "language_info": {
   "codemirror_mode": {
    "name": "ipython",
    "version": 3
   },
   "file_extension": ".py",
   "mimetype": "text/x-python",
   "name": "python",
   "nbconvert_exporter": "python",
   "pygments_lexer": "ipython3",
   "version": "3.7.3"
  }
 },
 "nbformat": 4,
 "nbformat_minor": 4
}
