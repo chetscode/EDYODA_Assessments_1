{
 "cells": [
  {
   "cell_type": "markdown",
   "metadata": {},
   "source": [
    "#### 1. Take values of length and breadth of a rectangle from the user and check if it is square or not. Return area of the rectangle.\n",
    " \n",
    "Input: 5, 5\n",
    "\n",
    "Output: (25, True)"
   ]
  },
  {
   "cell_type": "code",
   "execution_count": 1,
   "metadata": {},
   "outputs": [],
   "source": [
    "# don't change any function name write you all code inside the function only for every question solution and return you output as mentioned in problem statement.\n",
    "\n",
    "\n",
    "def question_first_solution(length, breadth):\n",
    "    if length == breadth:\n",
    "        return length * breadth, True\n",
    "    else:\n",
    "        return length * breadth, False\n",
    "    pass\n",
    "# print(question_first_solution(5,5))"
   ]
  },
  {
   "cell_type": "markdown",
   "metadata": {},
   "source": [
    "#### 2. Write a Python program that accepts an integer (n) and computes the value of n+nn+nnn.\n",
    "\n",
    "Input: 5\n",
    "\n",
    "Output: 615"
   ]
  },
  {
   "cell_type": "code",
   "execution_count": 13,
   "metadata": {},
   "outputs": [
    {
     "name": "stdout",
     "output_type": "stream",
     "text": [
      "1230.0\n",
      "1906.5\n",
      "615\n"
     ]
    }
   ],
   "source": [
    "def question_second_solution(nums):\n",
    "    n = nums\n",
    "    return n + ((n * 10) + n) + ((n * 100) + (n * 10) + n)\n",
    "    pass\n",
    "# print(question_second_solution(10.0))\n",
    "# print(question_second_solution(15.5))\n",
    "# print(question_second_solution(5))"
   ]
  },
  {
   "cell_type": "markdown",
   "metadata": {},
   "source": [
    "#### 3. A company decided to deduct pf of 12% of salary if the year of service is less than 5 years and 24% employee if his/her year of service is more than 5 years.\n",
    "\n",
    "Input: 25000, 5\n",
    "\n",
    "Output: 22000.0"
   ]
  },
  {
   "cell_type": "code",
   "execution_count": 4,
   "metadata": {},
   "outputs": [],
   "source": [
    "def question_third_solution(sal, noy):\n",
    "    if noy <=5:\n",
    "        pf = sal * 12 / 100\n",
    "    elif noy >=5:\n",
    "        pf = sal * 24 / 100\n",
    "    return sal - pf\n",
    "    pass\n",
    "# question_third_solution(25000, 5)"
   ]
  },
  {
   "cell_type": "markdown",
   "metadata": {},
   "source": [
    "#### 4. A school has following rules for grading system:\n",
    "\n",
    "a. Below 40 - F\n",
    "\n",
    "b. 40 to 50 - C\n",
    "\n",
    "c. 50 to 60 - C+\n",
    "\n",
    "d. 60 to 70 - B\n",
    "\n",
    "e. 70 to 80 - B+\n",
    "\n",
    "f. 80 to 90 - A\n",
    "\n",
    "g. Above 90 - A+\n",
    "\n",
    "Enter marks for their 5 main subjects and print the corresponding grade and overall grade for an average of marks.\n",
    " \n",
    "Input: 50,96,85,65,95\n",
    "\n",
    "Output: ('B+',78.2)"
   ]
  },
  {
   "cell_type": "code",
   "execution_count": 5,
   "metadata": {},
   "outputs": [],
   "source": [
    "def question_fourth_solution(a,b,c,d,e):\n",
    "    total_marks = a + b + c + d + e\n",
    "    per_of_marks = total_marks / 500 * 100\n",
    "\n",
    "    if per_of_marks > 90 and per_of_marks <= 100:  # for failsafe i have used this is if grade is higher than 100 then it will show error\n",
    "        grade = \"A+\"\n",
    "    elif per_of_marks >= 80 and per_of_marks <= 90:\n",
    "        grade = \"A\"\n",
    "    elif per_of_marks >= 70 and per_of_marks <= 80:\n",
    "        grade = \"B+\"\n",
    "    elif per_of_marks >= 60 and per_of_marks <= 70:\n",
    "        grade = \"B\"\n",
    "    elif per_of_marks >= 50 and per_of_marks <= 60:\n",
    "        grade = \"C+\"\n",
    "    elif per_of_marks >= 40 and per_of_marks <= 50:\n",
    "        grade = \"C\"\n",
    "    elif per_of_marks < 40:\n",
    "        grade = \"F\"\n",
    "    else:\n",
    "        grade = \"error in grade\"\n",
    "    return grade, per_of_marks\n",
    "    pass"
   ]
  },
  {
   "cell_type": "markdown",
   "metadata": {},
   "source": [
    "#### 5. A student will not be allowed to sit in the exam if his/her attendance is less than 75%.\n",
    "\n",
    "Enter the number of classes held Number of classes attended. And the print percentage of class attended Is the student is allowed to sit in the exam or not.\n",
    "\n",
    "Input: 248,189\n",
    "\n",
    "Output: ('76.21', True)"
   ]
  },
  {
   "cell_type": "code",
   "execution_count": 6,
   "metadata": {},
   "outputs": [],
   "source": [
    "def question_fifth_solution(noc,n):\n",
    "    per_of_attendance = n / noc * 100\n",
    "    attendance = format(per_of_attendance, '.2f') #just for formating the output in 2 decimal\n",
    "    if per_of_attendance < 75:\n",
    "        allow = False\n",
    "    else:\n",
    "        allow = True\n",
    "    return attendance, allow\n",
    "    pass"
   ]
  },
  {
   "cell_type": "markdown",
   "metadata": {},
   "source": [
    "#### 6. Write a program to check if a year is a leap year or not.\n",
    "If a year is divisible by 4 then it is a leap year but if the year is century year like 2000, 1900, 2100 then it must be divisible by 400.\n",
    " \n",
    "Input: 2020\n",
    "\n",
    "Output: True"
   ]
  },
  {
   "cell_type": "code",
   "execution_count": 7,
   "metadata": {},
   "outputs": [],
   "source": [
    "def question_sixth_solution(year):\n",
    "    if (((year % 4 == 0) and (year % 100 != 0)) or (year % 400 == 0)):\n",
    "        return True\n",
    "    else:\n",
    "        return False\n",
    "    pass\n",
    "# print(question_sixth_solution(2104))"
   ]
  },
  {
   "cell_type": "markdown",
   "metadata": {},
   "source": [
    "### 7.  Enter age, gender ( M or F ), marital status ( Y or N ) and then using the following rules print their place of service.\n",
    "    if an employee is female, then she will work only in urban areas.\n",
    "    if an employee is a male and age is between 20 to 30 and not married then he may work anywhere.\n",
    "    if an employee is a female and age is between 20 to 30 and not married then she may work in urban areas.\n",
    "    if an employee is male and age is between 20 t0 30 and married then he will work in nearby Hometown.\n",
    "    if an employee is female and age is between 20 t0 30 and married then she will work in her husband's city.\n",
    "    And any other input of age should print \"ERROR\".\n",
    " \n",
    "Input: 25, \"F\", \"Y\"\n",
    "\n",
    "Output: \"You will work in your husband's city.\""
   ]
  },
  {
   "cell_type": "code",
   "execution_count": 8,
   "metadata": {},
   "outputs": [],
   "source": [
    "def question_seventh_solution(age, gen , mar_status):\n",
    "    if gen == \"F\" and age ==() and mar_status == ():\n",
    "        place_of_service = \"You will work only in urban areas\"\n",
    "    elif gen == \"M\" and (age >=20 and age <=30) and mar_status == \"N\":\n",
    "        place_of_service = \"You may work anywhere\"\n",
    "    elif gen == \"F\" and (age >= 20 and age <= 30) and mar_status == \"N\":\n",
    "        place_of_service = \"You may work in urban areas\"\n",
    "    elif gen == \"M\" and (age >=20 and age <=30) and mar_status == \"Y\":\n",
    "        place_of_service = \"You will work in nearby Hometown\"\n",
    "    elif gen == \"F\" and (age >=20 and age <=30) and mar_status == \"Y\":\n",
    "        place_of_service = \"You will work in your husband's city.\"\n",
    "    elif age <=20 or age >=30:\n",
    "        place_of_service = \"ERROR\"\n",
    "    else:\n",
    "        place_of_service  = \"Invalid Input\"\n",
    "    return place_of_service\n",
    "    pass"
   ]
  },
  {
   "cell_type": "markdown",
   "metadata": {},
   "source": [
    "#### 8. Write a python program to find a type of triangle by it dimensions.\n",
    "Input: 5, 6, 5\n",
    "\n",
    "Output: \"Isosceles\""
   ]
  },
  {
   "cell_type": "code",
   "execution_count": 9,
   "metadata": {},
   "outputs": [],
   "source": [
    "def question_eighth_solution(x,y,z):\n",
    "    if x == y == z:\n",
    "        type_of_triangle = \"Equilateral\"\n",
    "    elif x==y or y == z or x == z:\n",
    "        type_of_triangle = \"Isosceles\"\n",
    "    else:\n",
    "        type_of_triangle = \"Obtuse\"\n",
    "    return type_of_triangle\n",
    "    pass\n",
    "# print(question_eighth_solution(5,6,5))"
   ]
  },
  {
   "cell_type": "markdown",
   "metadata": {},
   "source": [
    "#### 9. A shop will give a discount of 10% max upto 150rs if the cost of the purchased quantity is more than 1000.\n",
    "Enter quantity Suppose, one unit will cost 100rs. Judge and print total cost for the customer.\n",
    " \n",
    "Input: 15\n",
    "\n",
    "Output: 1350.0"
   ]
  },
  {
   "cell_type": "code",
   "execution_count": 10,
   "metadata": {},
   "outputs": [],
   "source": [
    "def question_ninth_solution(n):\n",
    "    cost_per_unit = 100\n",
    "    max_discount = 150\n",
    "    cost_of_purchased = n * cost_per_unit \n",
    "    if cost_of_purchased > 1000:\n",
    "        apply_discount = 10 * cost_of_purchased / 100\n",
    "        if apply_discount >= 150:\n",
    "            discount = 150\n",
    "            total_bill = cost_of_purchased - discount\n",
    "        elif apply_discount < 150:\n",
    "        \tdiscount = apply_discount\n",
    "        \ttotal_bill = cost_of_purchased - int(discount)\n",
    "        return total_bill\n",
    "    elif cost_of_purchased <=1000:\n",
    "        return cost_of_purchased\n",
    "    pass\n",
    "# print(question_ninth_solution(11))"
   ]
  },
  {
   "cell_type": "markdown",
   "metadata": {},
   "source": [
    "#### 10. Write a Python program to calculate the number of days between two dates\n",
    " \n",
    "Input: '25/01/2020', '26/01/2020'\n",
    "\n",
    "Output: '1 days 0 months 0 years'"
   ]
  },
  {
   "cell_type": "code",
   "execution_count": 26,
   "metadata": {},
   "outputs": [
    {
     "name": "stdout",
     "output_type": "stream",
     "text": [
      "18 days 7 months 22 years\n"
     ]
    }
   ],
   "source": [
    "def question_tenth_solution(a,b):\n",
    "#     #split the input for a\n",
    "#     a_split = a.split(\"/\")\n",
    "#     dayof_a = a_split[0]\n",
    "#     monthof_a = a_split[1]\n",
    "#     yearof_a = a_split[2]\n",
    "#     print(dayof_a,monthof_a,yearof_a)\n",
    "\n",
    "#     # split the input for b\n",
    "#     b_split = b.split(\"/\")\n",
    "#     dayof_b = b_split[0]\n",
    "#     monthof_b = b_split[1]\n",
    "#     yearof_b = b_split[2]\n",
    "#     print(dayof_b, monthof_b, yearof_b)\n",
    "\n",
    "#     # subtract each from day, month and year\n",
    "#     day = int(dayof_b) - int(dayof_a)\n",
    "#     print(day)\n",
    "#     month = int(monthof_b) - int(monthof_a)\n",
    "#     print(month)\n",
    "#     year = int(yearof_b) - int(yearof_a)\n",
    "#     print(year)\n",
    "    # Output: '1 days 0 months 0 years'\n",
    "#     return \"{} days {} months {} years\".format(day, month, year)\n",
    "    # print (\"{} days {} months {} years\".format(day, month, year))\n",
    "    # just a one problem this code is not universal, but working fine for this question. We will ask sir to explain this question.\n",
    "\n",
    "    #-----------------------------------------------------------------------------------------\n",
    "    a =  list(map(int,a.split(\"/\")))\n",
    "    b =  list(map(int,b.split(\"/\")))\n",
    "    \n",
    "    days=b[0]-a[0]\n",
    "    if days<0:\n",
    "        days +=30\n",
    "        b[1] -= 1\n",
    "    \n",
    "    months=b[1]-a[1]\n",
    "    if months<0:\n",
    "        months +=12\n",
    "        b[2] -= 1\n",
    "    \n",
    "    years=b[2]-a[2]\n",
    "    \n",
    "    return (f'{days} days {months} months {years} years')   \n",
    "    pass\n",
    "print(question_tenth_solution('25/07/1997', '13/03/2020'))"
   ]
  }
 ],
 "metadata": {
  "kernelspec": {
   "display_name": "Python 3",
   "language": "python",
   "name": "python3"
  },
  "language_info": {
   "codemirror_mode": {
    "name": "ipython",
    "version": 3
   },
   "file_extension": ".py",
   "mimetype": "text/x-python",
   "name": "python",
   "nbconvert_exporter": "python",
   "pygments_lexer": "ipython3",
   "version": "3.7.3"
  }
 },
 "nbformat": 4,
 "nbformat_minor": 4
}
